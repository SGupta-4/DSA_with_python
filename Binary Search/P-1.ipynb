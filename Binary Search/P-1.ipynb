{
 "cells": [
  {
   "cell_type": "markdown",
   "metadata": {},
   "source": [
    "QUESTION 1: Alice has some cards with numbers written on them. She arranges the cards in decreasing order, and lays them out face down in a sequence on a table. She challenges Bob to pick out the card containing a given number by turning over as few cards as possible. Write a function to help Bob locate the card."
   ]
  },
  {
   "cell_type": "code",
   "execution_count": 5,
   "metadata": {},
   "outputs": [],
   "source": [
    "## Cases\n",
    "# The number query occurs somewhere in the middle of the list cards.\n",
    "# query is the first element in cards.\n",
    "# query is the last element in cards.\n",
    "# The list cards contains just one element, which is query.\n",
    "# The list cards does not contain number query.\n",
    "# The list cards is empty.\n",
    "# The list cards contains repeating numbers.\n",
    "# The number query occurs at more than one position in cards.\n",
    "# (can you think of any more variations?)"
   ]
  },
  {
   "cell_type": "markdown",
   "metadata": {},
   "source": [
    "Brute Force Method"
   ]
  },
  {
   "cell_type": "code",
   "execution_count": 6,
   "metadata": {},
   "outputs": [],
   "source": [
    "# Linear Search is the  simplest searching algorithm that works by iterating through each element in the list until it finds the element we wanted"
   ]
  },
  {
   "cell_type": "code",
   "execution_count": 38,
   "metadata": {},
   "outputs": [],
   "source": [
    "def locate_card(cards,query):\n",
    "    #  This function locates a card in a list of cards based on a query\n",
    "    # Empty list\n",
    "    if len(cards) == 0:\n",
    "        return -1\n",
    "    # Create a variable with position  0\n",
    "    position = 0\n",
    "    # Loop through the list of cards\n",
    "    while True:\n",
    "        # Check if the current card matches the query\n",
    "        if cards[position] == query:\n",
    "            # If it does, return the position of the card\n",
    "            return position\n",
    "        # If it doesn't, move to the next card\n",
    "        position += 1\n",
    "        \n",
    "        #  If we've reached the end of the list, the card is not in the list\n",
    "        if position == len(cards):\n",
    "            return -1\n"
   ]
  },
  {
   "cell_type": "markdown",
   "metadata": {},
   "source": [
    "## Tests"
   ]
  },
  {
   "cell_type": "code",
   "execution_count": 8,
   "metadata": {},
   "outputs": [],
   "source": [
    "test1 = {\n",
    "    'input':{\n",
    "        'cards':[13, 11, 10, 7, 4, 3, 1, 0],\n",
    "        'query':7\n",
    "    },\n",
    "    'output':3\n",
    "}\n",
    "# locate_card(**test['input']) ==  test['output']"
   ]
  },
  {
   "cell_type": "code",
   "execution_count": 9,
   "metadata": {},
   "outputs": [],
   "source": [
    "test = []\n",
    "test.append(test1)"
   ]
  },
  {
   "cell_type": "code",
   "execution_count": 10,
   "metadata": {},
   "outputs": [],
   "source": [
    "test.append({\n",
    "    'input':{\n",
    "        'cards':[13, 11, 10, 7, 4, 3, 1, 0],\n",
    "        'query':1\n",
    "    },\n",
    "    'output':6\n",
    "})"
   ]
  },
  {
   "cell_type": "code",
   "execution_count": 11,
   "metadata": {},
   "outputs": [],
   "source": [
    "# query is first element\n",
    "test.append({\n",
    "    'input':{\n",
    "        'cards':[4, 2, 1, -1],\n",
    "        'query':4\n",
    "    },\n",
    "    'output':0\n",
    "})"
   ]
  },
  {
   "cell_type": "code",
   "execution_count": 12,
   "metadata": {},
   "outputs": [],
   "source": [
    "# query is last element\n",
    "test.append({\n",
    "    'input':{\n",
    "        'cards':[13, 11, 10, -1],\n",
    "        'query':-1\n",
    "    },\n",
    "    'output':3\n",
    "})"
   ]
  },
  {
   "cell_type": "code",
   "execution_count": 13,
   "metadata": {},
   "outputs": [],
   "source": [
    "# contains only one element, query\n",
    "test.append({\n",
    "    'input':{\n",
    "        'cards':[6],\n",
    "        'query':6\n",
    "    },\n",
    "    'output':0\n",
    "})"
   ]
  },
  {
   "cell_type": "code",
   "execution_count": 14,
   "metadata": {},
   "outputs": [],
   "source": [
    "# cards does not contain query\n",
    "test.append({\n",
    "    'input':{\n",
    "        'cards':[13, 345, 56, 7, 32, 2],\n",
    "        'query':6\n",
    "    },\n",
    "    'output':-1\n",
    "})\n"
   ]
  },
  {
   "cell_type": "code",
   "execution_count": 15,
   "metadata": {},
   "outputs": [],
   "source": [
    "# cards(list) is empty\n",
    "test.append({\n",
    "    'input':{\n",
    "        'cards':[],\n",
    "        'query':6\n",
    "    },\n",
    "    'output':-1\n",
    "})"
   ]
  },
  {
   "cell_type": "code",
   "execution_count": 16,
   "metadata": {},
   "outputs": [],
   "source": [
    "# number repeat in cards but not the query\n",
    "test.append({\n",
    "    'input': {\n",
    "        'cards': [8, 8, 6, 6, 6, 6, 6, 3, 2, 2, 2, 0, 0, 0],\n",
    "        'query': 3\n",
    "    },\n",
    "    'output': 7\n",
    "})"
   ]
  },
  {
   "cell_type": "code",
   "execution_count": 17,
   "metadata": {},
   "outputs": [],
   "source": [
    "# query occurs multiple times(returns first occurance of the query)\n",
    "test.append({\n",
    "    'input': {\n",
    "        'cards': [8, 8, 6, 6, 6, 6, 6, 6, 3, 2, 2, 2, 0, 0, 0],\n",
    "        'query': 6\n",
    "    },\n",
    "    'output': 2\n",
    "})"
   ]
  },
  {
   "cell_type": "code",
   "execution_count": 18,
   "metadata": {},
   "outputs": [
    {
     "data": {
      "text/plain": [
       "[{'input': {'cards': [13, 11, 10, 7, 4, 3, 1, 0], 'query': 7}, 'output': 3},\n",
       " {'input': {'cards': [13, 11, 10, 7, 4, 3, 1, 0], 'query': 1}, 'output': 6},\n",
       " {'input': {'cards': [4, 2, 1, -1], 'query': 4}, 'output': 0},\n",
       " {'input': {'cards': [13, 11, 10, -1], 'query': -1}, 'output': 3},\n",
       " {'input': {'cards': [6], 'query': 6}, 'output': 0},\n",
       " {'input': {'cards': [13, 345, 56, 7, 32, 2], 'query': 6}, 'output': -1},\n",
       " {'input': {'cards': [], 'query': 6}, 'output': -1},\n",
       " {'input': {'cards': [8, 8, 6, 6, 6, 6, 6, 3, 2, 2, 2, 0, 0, 0], 'query': 3},\n",
       "  'output': 7},\n",
       " {'input': {'cards': [8, 8, 6, 6, 6, 6, 6, 6, 3, 2, 2, 2, 0, 0, 0],\n",
       "   'query': 6},\n",
       "  'output': 2}]"
      ]
     },
     "execution_count": 18,
     "metadata": {},
     "output_type": "execute_result"
    }
   ],
   "source": [
    "test"
   ]
  },
  {
   "cell_type": "code",
   "execution_count": 26,
   "metadata": {},
   "outputs": [
    {
     "data": {
      "text/plain": [
       "{'input': {'cards': [13, 11, 10, 7, 4, 3, 1, 0], 'query': 7}, 'output': 3}"
      ]
     },
     "execution_count": 26,
     "metadata": {},
     "output_type": "execute_result"
    }
   ],
   "source": [
    "test1"
   ]
  },
  {
   "cell_type": "code",
   "execution_count": 27,
   "metadata": {},
   "outputs": [
    {
     "data": {
      "text/plain": [
       "3"
      ]
     },
     "execution_count": 27,
     "metadata": {},
     "output_type": "execute_result"
    }
   ],
   "source": [
    "result = locate_card(test1['input']['cards'], test1['input']['query'])\n",
    "result"
   ]
  },
  {
   "cell_type": "code",
   "execution_count": 28,
   "metadata": {},
   "outputs": [
    {
     "data": {
      "text/plain": [
       "True"
      ]
     },
     "execution_count": 28,
     "metadata": {},
     "output_type": "execute_result"
    }
   ],
   "source": [
    "result == test1['output']"
   ]
  },
  {
   "cell_type": "code",
   "execution_count": 39,
   "metadata": {},
   "outputs": [
    {
     "name": "stdout",
     "output_type": "stream",
     "text": [
      "Test 1 passed\n",
      "Test 1 failed\n",
      "Test 2 passed\n",
      "Test 2 failed\n",
      "Test 3 passed\n",
      "Test 3 failed\n",
      "Test 4 passed\n",
      "Test 4 failed\n",
      "Test 5 passed\n",
      "Test 5 failed\n",
      "Test 6 passed\n",
      "Test 6 failed\n",
      "Test 7 passed\n",
      "Test 7 failed\n",
      "Test 8 passed\n",
      "Test 8 failed\n",
      "Test 9 passed\n",
      "Test 9 failed\n"
     ]
    }
   ],
   "source": [
    "for i in range(0,len(test)):\n",
    "    result = locate_card(test[i]['input']['cards'], test[i]['input']['query'])\n",
    "    assert result == test[i]['output']\n",
    "    print(f\"Test {i+1} passed\")\n",
    "    print(f\"Test {i+1} failed\")"
   ]
  },
  {
   "cell_type": "code",
   "execution_count": 52,
   "metadata": {},
   "outputs": [
    {
     "name": "stdout",
     "output_type": "stream",
     "text": [
      "Test 1:True\n",
      "Test 2:True\n",
      "Test 3:True\n",
      "Test 4:True\n",
      "Test 5:True\n",
      "Test 6:True\n",
      "Test 7:True\n",
      "Test 8:True\n",
      "Test 9:True\n"
     ]
    }
   ],
   "source": [
    "j = 1\n",
    "for i in test:\n",
    "    print(f\"Test {j}:{locate_card(**i['input']) == i['output']}\")\n",
    "    j+=1"
   ]
  },
  {
   "cell_type": "code",
   "execution_count": null,
   "metadata": {},
   "outputs": [],
   "source": []
  },
  {
   "cell_type": "code",
   "execution_count": null,
   "metadata": {},
   "outputs": [],
   "source": []
  }
 ],
 "metadata": {
  "kernelspec": {
   "display_name": "Python 3",
   "language": "python",
   "name": "python3"
  },
  "language_info": {
   "codemirror_mode": {
    "name": "ipython",
    "version": 3
   },
   "file_extension": ".py",
   "mimetype": "text/x-python",
   "name": "python",
   "nbconvert_exporter": "python",
   "pygments_lexer": "ipython3",
   "version": "3.12.4"
  }
 },
 "nbformat": 4,
 "nbformat_minor": 2
}
